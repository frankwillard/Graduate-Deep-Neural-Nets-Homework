{
 "cells": [
  {
   "cell_type": "markdown",
   "metadata": {},
   "source": [
    "# Training SimpleNN on CIFAR-10\n",
    "In this project, you will use the SimpleNN model to perform image classification on CIFAR-10. CIFAR-10 orginally contains 60K images from 10 categories. We split it into 45K/5K/10K images to serve as train/valiation/test set. We only release the ground-truth labels of training/validation dataset to you."
   ]
  },
  {
   "cell_type": "markdown",
   "metadata": {},
   "source": [
    "## Step 0: Set up the SimpleNN model\n",
    "As you have practiced to implement simple neural networks in Homework 1, we just prepare the implementation for you."
   ]
  },
  {
   "cell_type": "code",
   "execution_count": 63,
   "metadata": {},
   "outputs": [],
   "source": [
    "# import necessary dependencies\n",
    "import argparse\n",
    "import os, sys\n",
    "import time\n",
    "import datetime\n",
    "from tqdm import tqdm_notebook as tqdm\n",
    "\n",
    "import torch\n",
    "import torch.nn as nn\n",
    "import torch.nn.functional as F"
   ]
  },
  {
   "cell_type": "code",
   "execution_count": 64,
   "metadata": {},
   "outputs": [],
   "source": [
    "def SwishActivation(x):\n",
    "    return x / (1 + torch.exp(-x))"
   ]
  },
  {
   "cell_type": "code",
   "execution_count": 65,
   "metadata": {},
   "outputs": [],
   "source": [
    "# define the SimpleNN mode;\n",
    "class SimpleNN(nn.Module):\n",
    "    def __init__(self):\n",
    "        super(SimpleNN, self).__init__()\n",
    "        self.conv1 = nn.Conv2d(3, 8, 5)\n",
    "        self.bn1 = nn.BatchNorm2d(8)\n",
    "        self.conv2 = nn.Conv2d(8, 16, 3)\n",
    "        self.bn2 = nn.BatchNorm2d(16)\n",
    "        self.fc1   = nn.Linear(16*6*6, 120)\n",
    "        self.fc2   = nn.Linear(120, 84)\n",
    "        self.fc3   = nn.Linear(84, 10)\n",
    "\n",
    "    def forward(self, x):\n",
    "        out = F.relu(self.bn1(self.conv1(x)))\n",
    "        out = F.max_pool2d(out, 2)\n",
    "        out = F.relu(self.bn2(self.conv2(out)))\n",
    "        out = F.max_pool2d(out, 2)\n",
    "        out = out.view(out.size(0), -1)\n",
    "        out = F.relu(self.fc1(out))\n",
    "        out = F.relu(self.fc2(out))\n",
    "        out = self.fc3(out)\n",
    "        return out"
   ]
  },
  {
   "cell_type": "markdown",
   "metadata": {},
   "source": [
    "### Question (a)\n",
    "Here is a sanity check to verify the implementation of SimpleNN. \n",
    "You need to:\n",
    "1. Write down your code.\n",
    "2. **In the PDF report**, give a brief description on how the code helps you know that SimpleNN is implemented correctly."
   ]
  },
  {
   "cell_type": "code",
   "execution_count": 66,
   "metadata": {},
   "outputs": [
    {
     "name": "stdout",
     "output_type": "stream",
     "text": [
      "Run on GPU...\n",
      "(5, 10)\n",
      "Forward pass successful\n"
     ]
    }
   ],
   "source": [
    "#############################################\n",
    "# your code here\n",
    "# sanity check for the correctness of SimpleNN\n",
    "\n",
    "# GPU check                \n",
    "device = 'cuda' if torch.cuda.is_available() else 'cpu'\n",
    "if device =='cuda':\n",
    "    print(\"Run on GPU...\")\n",
    "else:\n",
    "    print(\"Run on CPU...\")\n",
    "\n",
    "# Model Definition  \n",
    "net = SimpleNN()\n",
    "net = net.to(device)\n",
    "\n",
    "# Test forward pass\n",
    "data = torch.randn(5,3,32,32)\n",
    "data = data.to(device)\n",
    "# Forward pass \"data\" through \"net\" to get output \"out\" \n",
    "out = net.forward(data)    #Your code here\n",
    "\n",
    "print(out.detach().cpu().numpy().shape)\n",
    "\n",
    "# Check output shape\n",
    "assert(out.detach().cpu().numpy().shape == (5,10))\n",
    "print(\"Forward pass successful\")\n",
    "\n",
    "\n",
    "#############################################"
   ]
  },
  {
   "cell_type": "code",
   "execution_count": 67,
   "metadata": {},
   "outputs": [
    {
     "name": "stdout",
     "output_type": "stream",
     "text": [
      "torch.Size([8, 3, 5, 5])\n",
      "torch.Size([16, 8, 3, 3])\n",
      "torch.Size([120, 576])\n",
      "torch.Size([84, 120])\n",
      "torch.Size([10, 84])\n"
     ]
    }
   ],
   "source": [
    "# Iterate through all the CONV and FC layers of the model\n",
    "for name, module in net.named_modules():\n",
    "    if isinstance(module, nn.Conv2d) or isinstance(module, nn.Linear):\n",
    "        # Get the input feature map of the module as a NumPy array\n",
    "        #input = module.input     #Your code here\n",
    "        # Get the output feature map of the module as a NumPy array\n",
    "        #output = module.output     #Your code here\n",
    "        # Get the weight of the module as a NumPy array\n",
    "        weight = module.weight     #Your code here\n",
    "        # Compute the number of parameters in the weight\n",
    "        # Compute the number of MACs in the layer\n",
    "\n",
    "        print(weight.shape)"
   ]
  },
  {
   "cell_type": "markdown",
   "metadata": {},
   "source": [
    "## Step 1: Set up preprocessing functions\n",
    "Preprocessing is very important as discussed in the lecture.\n",
    "You will need to write preprocessing functions with the help of *torchvision.transforms* in this step.\n",
    "You can find helpful tutorial/API at [here](https://pytorch.org/vision/stable/transforms.html)."
   ]
  },
  {
   "cell_type": "markdown",
   "metadata": {},
   "source": [
    "### Question (b)\n",
    "For the question, you need to:\n",
    "1. Complete the preprocessing code below.\n",
    "2. **In the PDF report**, briefly describe what preprocessing operations you used and what are the purposes of them.\n",
    "\n",
    "Hint: \n",
    "1. Only two operations are necessary to complete the basic preprocessing here.\n",
    "2. The raw input read from the dataset will be PIL images.\n",
    "3. Data augmentation operations are not mendatory, but feel free to incorporate them if you want.\n",
    "4. Reference value for mean/std of CIFAR-10 images (assuming the pixel values are within [0,1]): mean (RGB-format): (0.4914, 0.4822, 0.4465), std (RGB-format): (0.2023, 0.1994, 0.2010)"
   ]
  },
  {
   "cell_type": "code",
   "execution_count": 68,
   "metadata": {},
   "outputs": [],
   "source": [
    "# useful libraries\n",
    "import torchvision\n",
    "import torchvision.transforms as transforms\n",
    "\n",
    "#############################################\n",
    "# your code here\n",
    "# specify preprocessing function\n",
    "mean_images = [0.4914, 0.4822, 0.4465]\n",
    "std_images = [0.2023, 0.1994, 0.2010]\n",
    "\n",
    "#transforms.RandomCrop(size=(3,32,32), padding = 2)\n",
    "#transforms.RandomHorizontalFlip()\n",
    "#transforms.RandomVerticalFlip()\n",
    "\n",
    "transform_train = transforms.Compose([\n",
    "    transforms.ToTensor(),\n",
    "    transforms.RandomCrop(size=(32,32), padding = 2),\n",
    "    transforms.RandomHorizontalFlip(),\n",
    "    transforms.Normalize(mean=mean_images, std=std_images)\n",
    "])\n",
    "\n",
    "transform_val = transforms.Compose([\n",
    "    transforms.ToTensor(),\n",
    "    transforms.Normalize(mean=mean_images, std=std_images)\n",
    "])\n",
    "#############################################"
   ]
  },
  {
   "cell_type": "markdown",
   "metadata": {},
   "source": [
    "## Step 2: Set up dataset and dataloader\n",
    "\n",
    "### Question (c)\n",
    "Set up the train/val datasets and dataloders that are to be used during the training. Check out the [official API](https://pytorch.org/docs/stable/data.html) for more information about **torch.utils.data.DataLoader**.\n",
    "\n",
    "Here, you need to:\n",
    "1. Complete the code below."
   ]
  },
  {
   "cell_type": "code",
   "execution_count": 69,
   "metadata": {},
   "outputs": [
    {
     "name": "stdout",
     "output_type": "stream",
     "text": [
      "Using downloaded and verified file: ./data/cifar10_trainval_F22.zip\n",
      "Extracting ./data/cifar10_trainval_F22.zip to ./data\n",
      "Files already downloaded and verified\n",
      "Using downloaded and verified file: ./data/cifar10_trainval_F22.zip\n",
      "Extracting ./data/cifar10_trainval_F22.zip to ./data\n",
      "Files already downloaded and verified\n"
     ]
    }
   ],
   "source": [
    "# do NOT change these\n",
    "from tools.dataset import CIFAR10\n",
    "from torch.utils.data import DataLoader\n",
    "\n",
    "# a few arguments, do NOT change these\n",
    "DATA_ROOT = \"./data\"\n",
    "TRAIN_BATCH_SIZE = 128\n",
    "VAL_BATCH_SIZE = 100\n",
    "\n",
    "#############################################\n",
    "# your code here\n",
    "# construct dataset\n",
    "train_set = CIFAR10(\n",
    "    root=DATA_ROOT, \n",
    "    mode='train', \n",
    "    download=True,\n",
    "    transform= transform_train    # your code\n",
    ")\n",
    "val_set = CIFAR10(\n",
    "    root=DATA_ROOT, \n",
    "    mode='val', \n",
    "    download=True,\n",
    "    transform= transform_val    # your code\n",
    ")\n",
    "\n",
    "# construct dataloader\n",
    "train_loader = DataLoader(\n",
    "    train_set, \n",
    "    batch_size= TRAIN_BATCH_SIZE,  # your code\n",
    "    shuffle=True,     # your code\n",
    "    num_workers=4\n",
    ")\n",
    "val_loader = DataLoader(\n",
    "    val_set, \n",
    "    batch_size= VAL_BATCH_SIZE,  # your code\n",
    "    shuffle=False,     # your code\n",
    "    num_workers=4\n",
    ")\n",
    "#############################################"
   ]
  },
  {
   "cell_type": "markdown",
   "metadata": {},
   "source": [
    "## Step 3: Instantiate your SimpleNN model and deploy it to GPU devices.\n",
    "### Question (d)\n",
    "You may want to deploy your model to GPU device for efficient training. Please assign your model to GPU if possible. If you are training on a machine without GPUs, please deploy your model to CPUs.\n",
    "\n",
    "Here, you need to:\n",
    "1. Complete the code below.\n",
    "2. **In the PDF report**, briefly describe how you verify that your model is indeed deployed on GPU. (Hint: check $\\texttt{nvidia-smi}$.)"
   ]
  },
  {
   "cell_type": "code",
   "execution_count": 70,
   "metadata": {},
   "outputs": [
    {
     "name": "stdout",
     "output_type": "stream",
     "text": [
      "Run on GPU...\n"
     ]
    }
   ],
   "source": [
    "# specify the device for computation\n",
    "#############################################\n",
    "# your code here\n",
    "\n",
    "# GPU check                \n",
    "device = 'cuda' if torch.cuda.is_available() else 'cpu'\n",
    "if device =='cuda':\n",
    "    print(\"Run on GPU...\")\n",
    "else:\n",
    "    print(\"Run on CPU...\")\n",
    "\n",
    "# Model Definition  \n",
    "net = SimpleNN()\n",
    "net = net.to(device)\n",
    "    \n",
    "#############################################"
   ]
  },
  {
   "cell_type": "code",
   "execution_count": 71,
   "metadata": {},
   "outputs": [
    {
     "name": "stdout",
     "output_type": "stream",
     "text": [
      "Fri Sep 30 02:36:51 2022       \n",
      "+-----------------------------------------------------------------------------+\n",
      "| NVIDIA-SMI 495.29.05    Driver Version: 460.73.01    CUDA Version: 11.2     |\n",
      "|-------------------------------+----------------------+----------------------+\n",
      "| GPU  Name        Persistence-M| Bus-Id        Disp.A | Volatile Uncorr. ECC |\n",
      "| Fan  Temp  Perf  Pwr:Usage/Cap|         Memory-Usage | GPU-Util  Compute M. |\n",
      "|                               |                      |               MIG M. |\n",
      "|===============================+======================+======================|\n",
      "|   0  TITAN Xp            On   | 00000000:13:00.0 Off |                  N/A |\n",
      "| 23%   35C    P2    61W / 250W |    875MiB /  2439MiB |      0%      Default |\n",
      "|                               |                      |                  N/A |\n",
      "+-------------------------------+----------------------+----------------------+\n",
      "                                                                               \n",
      "+-----------------------------------------------------------------------------+\n",
      "| Processes:                                                                  |\n",
      "|  GPU   GI   CI        PID   Type   Process name                  GPU Memory |\n",
      "|        ID   ID                                                   Usage      |\n",
      "|=============================================================================|\n",
      "|  No running processes found                                                 |\n",
      "+-----------------------------------------------------------------------------+\n"
     ]
    }
   ],
   "source": [
    "!nvidia-smi"
   ]
  },
  {
   "cell_type": "markdown",
   "metadata": {},
   "source": [
    "## Step 4: Set up the loss function and optimizer\n",
    "Loss function/objective function is used to provide \"feedback\" for the neural networks. Typically, we use multi-class cross-entropy as the loss function for classification models. As for the optimizer, we will use SGD with momentum. "
   ]
  },
  {
   "cell_type": "markdown",
   "metadata": {},
   "source": [
    "### Question (e)\n",
    "Here, you need to:\n",
    "1. Set up the cross-entropy loss as the criterion. (Hint: there are implemented functions in **torch.nn**)\n",
    "2. Specify a SGD optimizer with momentum. (Hint: there are implemented functions in **torch.optim**)"
   ]
  },
  {
   "cell_type": "code",
   "execution_count": 72,
   "metadata": {},
   "outputs": [],
   "source": [
    "import torch.nn as nn\n",
    "import torch.optim as optim\n",
    "\n",
    "# hyperparameters, do NOT change right now\n",
    "# initial learning rate\n",
    "INITIAL_LR = 0.01\n",
    "\n",
    "# momentum for optimizer\n",
    "MOMENTUM = 0.9\n",
    "\n",
    "# L2 regularization strength\n",
    "REG = 1e-4\n",
    "\n",
    "# L1 regularization strength\n",
    "L1_reg = 0\n",
    "\n",
    "#############################################\n",
    "# your code here\n",
    "# create loss function\n",
    "criterion = nn.CrossEntropyLoss()\n",
    "\n",
    "# Add optimizer\n",
    "optimizer = optim.SGD(net.parameters(), lr=INITIAL_LR, momentum = MOMENTUM, weight_decay = REG)\n",
    "#############################################"
   ]
  },
  {
   "cell_type": "markdown",
   "metadata": {},
   "source": [
    "## Step 5: Start the training process.\n",
    "\n",
    "### Question (f)/(g)\n",
    "Congratulations! You have completed all of the previous steps and it is time to train our neural network.\n",
    "\n",
    "Here you need to:\n",
    "1. Complete the training codes.\n",
    "2. Actually perform the training.\n",
    "\n",
    "Hint: Training a neural network usually repeats the following 4 steps: \n",
    "\n",
    "**i) Get a batch of data from the dataloader and copy it to your device (GPU).**\n",
    "\n",
    "**ii) Do a forward pass to get the outputs from the neural network and compute the loss. Be careful about your inputs to the loss function. Are the inputs required to be the logits or softmax probabilities?)**\n",
    "\n",
    "**iii) Do a backward pass (back-propagation) to compute gradients of all weights with respect to the loss.**\n",
    "\n",
    "**iiii) Update the model weights with the optimizer.**\n",
    "\n",
    "You will also need to compute the accuracy of training/validation samples to track your model's performance over each epoch (the accuracy should be increasing as you train for more and more epochs).\n"
   ]
  },
  {
   "cell_type": "code",
   "execution_count": 73,
   "metadata": {},
   "outputs": [
    {
     "name": "stdout",
     "output_type": "stream",
     "text": [
      "==> Training starts!\n",
      "==================================================\n",
      "Epoch 0:\n",
      "Training loss: 1.7034, Training accuracy: 0.3666\n",
      "Validation loss: 1.4258, Validation accuracy: 0.4884\n",
      "\n",
      "Epoch 1:\n",
      "Training loss: 1.3593, Training accuracy: 0.5070\n",
      "Validation loss: 1.2533, Validation accuracy: 0.5468\n",
      "\n",
      "Epoch 2:\n",
      "Training loss: 1.2170, Training accuracy: 0.5625\n",
      "Validation loss: 1.1342, Validation accuracy: 0.6024\n",
      "\n",
      "Epoch 3:\n",
      "Training loss: 1.1248, Training accuracy: 0.6006\n",
      "Validation loss: 1.1111, Validation accuracy: 0.6098\n",
      "\n",
      "Epoch 4:\n",
      "Training loss: 1.0617, Training accuracy: 0.6228\n",
      "Validation loss: 1.0208, Validation accuracy: 0.6392\n",
      "\n",
      "Epoch 5:\n",
      "Training loss: 1.0108, Training accuracy: 0.6410\n",
      "Validation loss: 0.9890, Validation accuracy: 0.6468\n",
      "\n",
      "Epoch 6:\n",
      "Training loss: 0.9682, Training accuracy: 0.6572\n",
      "Validation loss: 0.9850, Validation accuracy: 0.6506\n",
      "\n",
      "Epoch 7:\n",
      "Training loss: 0.9407, Training accuracy: 0.6664\n",
      "Validation loss: 0.9275, Validation accuracy: 0.6748\n",
      "\n",
      "Epoch 8:\n",
      "Training loss: 0.9177, Training accuracy: 0.6756\n",
      "Validation loss: 0.9557, Validation accuracy: 0.6678\n",
      "\n",
      "Epoch 9:\n",
      "Training loss: 0.8918, Training accuracy: 0.6859\n",
      "Validation loss: 0.8770, Validation accuracy: 0.6866\n",
      "\n",
      "Epoch 10:\n",
      "Training loss: 0.8621, Training accuracy: 0.6941\n",
      "Validation loss: 0.8562, Validation accuracy: 0.7024\n",
      "\n",
      "Epoch 11:\n",
      "Training loss: 0.8496, Training accuracy: 0.7008\n",
      "Validation loss: 0.8756, Validation accuracy: 0.6928\n",
      "\n",
      "Epoch 12:\n",
      "Training loss: 0.8356, Training accuracy: 0.7038\n",
      "Validation loss: 0.9131, Validation accuracy: 0.6798\n",
      "\n",
      "Epoch 13:\n",
      "Training loss: 0.8162, Training accuracy: 0.7124\n",
      "Validation loss: 0.8481, Validation accuracy: 0.7090\n",
      "\n",
      "Epoch 14:\n",
      "Training loss: 0.8050, Training accuracy: 0.7160\n",
      "Validation loss: 0.8243, Validation accuracy: 0.7170\n",
      "\n",
      "Epoch 15:\n",
      "Training loss: 0.7917, Training accuracy: 0.7203\n",
      "Validation loss: 0.8023, Validation accuracy: 0.7214\n",
      "\n",
      "Epoch 16:\n",
      "Training loss: 0.7775, Training accuracy: 0.7273\n",
      "Validation loss: 0.8484, Validation accuracy: 0.7036\n",
      "\n",
      "Epoch 17:\n",
      "Training loss: 0.7754, Training accuracy: 0.7267\n",
      "Validation loss: 0.7969, Validation accuracy: 0.7210\n",
      "\n",
      "Epoch 18:\n",
      "Training loss: 0.7643, Training accuracy: 0.7298\n",
      "Validation loss: 0.7856, Validation accuracy: 0.7314\n",
      "\n",
      "Epoch 19:\n",
      "Training loss: 0.7499, Training accuracy: 0.7366\n",
      "Validation loss: 0.7925, Validation accuracy: 0.7272\n",
      "\n",
      "Epoch 20:\n",
      "Training loss: 0.7435, Training accuracy: 0.7369\n",
      "Validation loss: 0.7609, Validation accuracy: 0.7368\n",
      "\n",
      "Epoch 21:\n",
      "Training loss: 0.7321, Training accuracy: 0.7435\n",
      "Validation loss: 0.7620, Validation accuracy: 0.7330\n",
      "\n",
      "Epoch 22:\n",
      "Training loss: 0.7275, Training accuracy: 0.7432\n",
      "Validation loss: 0.8020, Validation accuracy: 0.7224\n",
      "\n",
      "Epoch 23:\n",
      "Training loss: 0.7206, Training accuracy: 0.7457\n",
      "Validation loss: 0.7999, Validation accuracy: 0.7316\n",
      "\n",
      "Epoch 24:\n",
      "Training loss: 0.7153, Training accuracy: 0.7494\n",
      "Validation loss: 0.7865, Validation accuracy: 0.7244\n",
      "\n",
      "Epoch 25:\n",
      "Training loss: 0.7093, Training accuracy: 0.7500\n",
      "Validation loss: 0.7726, Validation accuracy: 0.7348\n",
      "\n",
      "Epoch 26:\n",
      "Training loss: 0.7088, Training accuracy: 0.7492\n",
      "Validation loss: 0.7399, Validation accuracy: 0.7390\n",
      "\n",
      "Epoch 27:\n",
      "Training loss: 0.6963, Training accuracy: 0.7557\n",
      "Validation loss: 0.7791, Validation accuracy: 0.7342\n",
      "\n",
      "Epoch 28:\n",
      "Training loss: 0.6924, Training accuracy: 0.7564\n",
      "Validation loss: 0.7900, Validation accuracy: 0.7258\n",
      "\n",
      "Epoch 29:\n",
      "Training loss: 0.6902, Training accuracy: 0.7586\n",
      "Validation loss: 0.7513, Validation accuracy: 0.7414\n",
      "\n",
      "==================================================\n",
      "==> Optimization finished! Best validation accuracy: 0.7414\n"
     ]
    }
   ],
   "source": [
    "# some hyperparameters\n",
    "# total number of training epochs\n",
    "EPOCHS = 30\n",
    "DECAY_EPOCHS = 15\n",
    "DECAY = 0.1\n",
    "\n",
    "# the folder where the trained model is saved\n",
    "CHECKPOINT_FOLDER = \"./saved_model\"\n",
    "\n",
    "# start the training/validation process\n",
    "# the process should take about 5 minutes on a GTX 1070-Ti\n",
    "# if the code is written efficiently.\n",
    "best_val_acc = 0\n",
    "current_learning_rate = INITIAL_LR\n",
    "\n",
    "print(\"==> Training starts!\")\n",
    "print(\"=\"*50)\n",
    "for i in range(0, EPOCHS):\n",
    "    # handle the learning rate scheduler.\n",
    "    #if i % DECAY_EPOCHS == 0 and i != 0:\n",
    "    #    current_learning_rate = current_learning_rate * DECAY\n",
    "    #    for param_group in optimizer.param_groups:\n",
    "    #        param_group['lr'] = current_learning_rate\n",
    "    #    print(\"Current learning rate has decayed to %f\" %current_learning_rate)\n",
    "    \n",
    "    #######################\n",
    "    # your code here\n",
    "    # switch to train mode\n",
    "    \n",
    "    net.train()\n",
    "    \n",
    "    #######################\n",
    "    \n",
    "    print(\"Epoch %d:\" %i)\n",
    "    # this help you compute the training accuracy\n",
    "    total_examples = 0\n",
    "    correct_examples = 0\n",
    "\n",
    "    train_loss = 0 # track training loss if you want\n",
    "    \n",
    "    # Train the model for 1 epoch.\n",
    "    for batch_idx, (inputs, targets) in enumerate(train_loader):\n",
    "        ####################################\n",
    "        # your code here\n",
    "        # copy inputs to device\n",
    "        inputs, targets = inputs.to(device), targets.to(device)\n",
    "        \n",
    "        # compute the output and loss\n",
    "        y_pred = net(inputs)\n",
    "        loss = criterion(y_pred, targets)\n",
    "        l1_loss_term = L1_reg * torch.abs(torch.cat([parameter.view(-1) for parameter in net.parameters()])).sum()\n",
    "        loss += l1_loss_term\n",
    "        train_loss += loss\n",
    "        \n",
    "        # zero the gradient\n",
    "        optimizer.zero_grad()\n",
    "        \n",
    "        # backpropagation\n",
    "        loss.backward()\n",
    "        \n",
    "        # apply gradient and update the weights\n",
    "        optimizer.step()\n",
    "        \n",
    "        # count the number of correctly predicted samples in the current batch\n",
    "        #correct_current_batch = 0\n",
    "        #for target, pred in zip(targets, y_pred):\n",
    "        #    if target == torch.argmax(pred):\n",
    "        #        correct_current_batch+=1\n",
    "        correct_current_batch = (targets-torch.argmax(y_pred, axis=1) == 0).sum().item()\n",
    "        \n",
    "        correct_examples += correct_current_batch\n",
    "        total_examples += len(targets)\n",
    "        \n",
    "        ####################################\n",
    "                \n",
    "    avg_loss = train_loss / len(train_loader)\n",
    "    avg_acc = correct_examples / total_examples\n",
    "    print(\"Training loss: %.4f, Training accuracy: %.4f\" %(avg_loss, avg_acc))\n",
    "\n",
    "    # Validate on the validation dataset\n",
    "    #######################\n",
    "    # your code here\n",
    "    # switch to eval mode\n",
    "    \n",
    "    net.eval()\n",
    "    \n",
    "    #######################\n",
    "\n",
    "    # this help you compute the validation accuracy\n",
    "    total_examples = 0\n",
    "    correct_examples = 0\n",
    "    \n",
    "    val_loss = 0 # again, track the validation loss if you want\n",
    "\n",
    "    # disable gradient during validation, which can save GPU memory\n",
    "    with torch.no_grad():\n",
    "        for batch_idx, (inputs, targets) in enumerate(val_loader):\n",
    "            ####################################\n",
    "            # your code here\n",
    "            # copy inputs to device\n",
    "            inputs, targets = inputs.to(device), targets.to(device)\n",
    "            \n",
    "            # compute the output and loss\n",
    "            y_pred = net(inputs)\n",
    "            loss = criterion(y_pred, targets)\n",
    "            val_loss += loss\n",
    "            \n",
    "            # count the number of correctly predicted samples in the current batch\n",
    "            #correct_current_batch=0\n",
    "            #for target, pred in zip(targets, y_pred):\n",
    "                #if target == torch.argmax(pred):\n",
    "                    #correct_current_batch+=1\n",
    "                \n",
    "            correct_current_batch = (targets-torch.argmax(y_pred, axis=1) == 0).sum().item()\n",
    "\n",
    "            correct_examples += correct_current_batch\n",
    "            total_examples += len(targets)\n",
    "            \n",
    "            ####################################\n",
    "\n",
    "    avg_loss = val_loss / len(val_loader)\n",
    "    avg_acc = correct_examples / total_examples\n",
    "    print(\"Validation loss: %.4f, Validation accuracy: %.4f\" % (avg_loss, avg_acc))\n",
    "    \n",
    "    # save the model checkpoint\n",
    "    if avg_acc > best_val_acc:\n",
    "        best_val_acc = avg_acc\n",
    "        #if not os.path.exists(CHECKPOINT_FOLDER):\n",
    "        #    os.makedirs(CHECKPOINT_FOLDER)\n",
    "        #print(\"Saving ...\")\n",
    "        #state = {'state_dict': net.state_dict(),\n",
    "        #         'epoch': i,\n",
    "        #         'lr': current_learning_rate}\n",
    "        #torch.save(state, os.path.join(CHECKPOINT_FOLDER, 'simplenn.pth'))\n",
    "        \n",
    "    print('')\n",
    "\n",
    "print(\"=\"*50)\n",
    "print(f\"==> Optimization finished! Best validation accuracy: {best_val_acc:.4f}\")"
   ]
  },
  {
   "cell_type": "code",
   "execution_count": 74,
   "metadata": {},
   "outputs": [],
   "source": [
    "import matplotlib.pyplot as plt"
   ]
  },
  {
   "cell_type": "code",
   "execution_count": 75,
   "metadata": {},
   "outputs": [
    {
     "data": {
      "image/png": "[encoded data removed]",
      "text/plain": [
       "<Figure size 432x288 with 1 Axes>"
      ]
     },
     "metadata": {
      "needs_background": "light"
     },
     "output_type": "display_data"
    },
    {
     "data": {
      "image/png": "[encoded data removed]",
      "text/plain": [
       "<Figure size 432x288 with 1 Axes>"
      ]
     },
     "metadata": {
      "needs_background": "light"
     },
     "output_type": "display_data"
    },
    {
     "data": {
      "image/png": "[encoded data removed]",
      "text/plain": [
       "<Figure size 432x288 with 1 Axes>"
      ]
     },
     "metadata": {
      "needs_background": "light"
     },
     "output_type": "display_data"
    },
    {
     "data": {
      "image/png": "[encoded data removed]",
      "text/plain": [
       "<Figure size 432x288 with 1 Axes>"
      ]
     },
     "metadata": {
      "needs_background": "light"
     },
     "output_type": "display_data"
    },
    {
     "data": {
      "image/png": "[encoded data removed]",
      "text/plain": [
       "<Figure size 432x288 with 1 Axes>"
      ]
     },
     "metadata": {
      "needs_background": "light"
     },
     "output_type": "display_data"
    }
   ],
   "source": [
    "conv_count = 1\n",
    "linear_count = 1\n",
    "\n",
    "for name, module in net.named_modules():\n",
    "    \n",
    "    if isinstance(module, nn.Conv2d) or isinstance(module, nn.Linear):\n",
    "        # Get the weight of the module as a NumPy array\n",
    "        weight = module.weight.cpu().detach().numpy()    #Your code here\n",
    "        \n",
    "        if isinstance(module, nn.Conv2d):\n",
    "            name = f'conv{conv_count}'\n",
    "            conv_count+=1\n",
    "        else:\n",
    "            name = f'fc{linear_count}'\n",
    "            linear_count+=1\n",
    "        \n",
    "        # Reshape for histogram\n",
    "        weight = weight.reshape(-1)\n",
    "        _ = plt.hist(weight, bins=20)\n",
    "        plt.title(\"Weight histogram of layer \"+name)\n",
    "        plt.savefig(f'./l2_pics/{name}_l2_weight.png', dpi=300)\n",
    "        plt.show()"
   ]
  },
  {
   "cell_type": "markdown",
   "metadata": {},
   "source": [
    "# Bonus: with learning rate decay\n",
    "\n",
    "The following code can help you adjust the learning rate during training. You need to figure out how to incorporate this code into your training loop.\n",
    "```python\n",
    "    if i % DECAY_EPOCHS == 0 and i != 0:\n",
    "        current_learning_rate = current_learning_rate * DECAY\n",
    "        for param_group in optimizer.param_groups:\n",
    "            param_group['lr'] = current_learning_rate\n",
    "        print(\"Current learning rate has decayed to %f\" %current_learning_rate)\n",
    "```"
   ]
  },
  {
   "cell_type": "code",
   "execution_count": null,
   "metadata": {},
   "outputs": [],
   "source": []
  }
 ],
 "metadata": {
  "kernelspec": {
   "display_name": "Python 3 (ipykernel)",
   "language": "python",
   "name": "python3"
  },
  "language_info": {
   "codemirror_mode": {
    "name": "ipython",
    "version": 3
   },
   "file_extension": ".py",
   "mimetype": "text/x-python",
   "name": "python",
   "nbconvert_exporter": "python",
   "pygments_lexer": "ipython3",
   "version": "3.9.7"
  }
 },
 "nbformat": 4,
 "nbformat_minor": 4
}

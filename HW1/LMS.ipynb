{
  "nbformat": 4,
  "nbformat_minor": 0,
  "metadata": {
    "colab": {
      "provenance": [],
      "collapsed_sections": []
    },
    "kernelspec": {
      "name": "python3",
      "display_name": "Python 3"
    },
    "language_info": {
      "name": "python"
    }
  },
  "cells": [
    {
      "cell_type": "markdown",
      "source": [
        "### $\\textbf{Lab: LMS Algorithm (15 pts)}$"
      ],
      "metadata": {
        "id": "cMFMv48VhYxa"
      }
    },
    {
      "cell_type": "markdown",
      "source": [
        "### Loading in Data"
      ],
      "metadata": {
        "id": "PHaLR36EiDIv"
      }
    },
    {
      "cell_type": "code",
      "execution_count": 186,
      "metadata": {
        "id": "w9A7Av4zpXmi"
      },
      "outputs": [],
      "source": [
        "import numpy as np\n",
        "import scipy.io\n",
        "import pandas as pd\n",
        "import matplotlib.pyplot as plt\n",
        "from mpl_toolkits import mplot3d"
      ]
    },
    {
      "cell_type": "code",
      "source": [
        "mat = scipy.io.loadmat('dataset.mat')"
      ],
      "metadata": {
        "id": "a8MjF4vGvR_8"
      },
      "execution_count": 187,
      "outputs": []
    },
    {
      "cell_type": "code",
      "source": [
        "D = mat['D'].squeeze()\n",
        "X = mat['X']"
      ],
      "metadata": {
        "id": "NzXjdwx75cZY"
      },
      "execution_count": 188,
      "outputs": []
    },
    {
      "cell_type": "markdown",
      "source": [
        "#### (a) (3pt) Directly compute the least square (Wiener) solution with the provided dataset. What is the optimal weight $W^*$? What is the MSE loss of the whole dataset when the weight is set to $W^*$?"
      ],
      "metadata": {
        "id": "40wHX6NjGemJ"
      }
    },
    {
      "cell_type": "code",
      "source": [
        "W_star = ((np.linalg.inv(X.T @ X) @ X.T) @ D)\n",
        "W_star"
      ],
      "metadata": {
        "id": "xUOKcfQ75rnj",
        "colab": {
          "base_uri": "https://localhost:8080/"
        },
        "outputId": "87a68d50-28b6-4037-eb1b-3edc4bf7d0b9"
      },
      "execution_count": 189,
      "outputs": [
        {
          "output_type": "execute_result",
          "data": {
            "text/plain": [
              "array([ 1.0006781 ,  1.00061145, -2.00031968])"
            ]
          },
          "metadata": {},
          "execution_count": 189
        }
      ]
    },
    {
      "cell_type": "markdown",
      "source": [
        "The optimal weight $W^*$ is \n",
        "$$\n",
        "\\begin{bmatrix}\n",
        "1.0006781 \\\\\n",
        "1.00061145 \\\\\n",
        "-2.00031968 \\\\\n",
        "\\end{bmatrix}\n",
        "$$"
      ],
      "metadata": {
        "id": "9OVQnLKHiL1O"
      }
    },
    {
      "cell_type": "markdown",
      "source": [
        "We use the MSE as defined by the slides (that includes the 1/2 term, although one could obtain MSE as defined by Scikit Learn or other colloquial use by multiplying by 2"
      ],
      "metadata": {
        "id": "xyVD2smMSm19"
      }
    },
    {
      "cell_type": "code",
      "source": [
        "y_pred = np.array([(W_star.T @ X_k).item() for X_k in X])\n",
        "print(f\"MSE: {np.sum((D - y_pred) ** 2) / (2 * len(D))}\")"
      ],
      "metadata": {
        "colab": {
          "base_uri": "https://localhost:8080/"
        },
        "id": "ML99aP69x7k9",
        "outputId": "82718a96-9847-4fdd-928f-e86d0c136d82"
      },
      "execution_count": 190,
      "outputs": [
        {
          "output_type": "stream",
          "name": "stdout",
          "text": [
            "MSE: 5.039951565868384e-05\n"
          ]
        }
      ]
    },
    {
      "cell_type": "markdown",
      "source": [
        "The MSE loss of the whole dataset when the weight is set to $W^*$? is 0.00010079903131736768.\n",
        "\n",
        "The 1/2 MSE loss of the whole dataset when the weight is set to $W^*$? is 5.039951565868384e-05"
      ],
      "metadata": {
        "id": "fGQK1MEUip0e"
      }
    },
    {
      "cell_type": "markdown",
      "source": [
        "#### (b) (4pt) Now consider that you can only train with 1 pair of data point and target each time. In such case, the LMS algorithm should be used to find the optimal weight. Please initialize the weight vector as $W^0 = [0,0,0]^T$, and update the weight with the LMS algorithm. After each epoch (every time you go through all the training data and loop back to the beginning), compute and record the MSE loss of the current weight on the whole dataset. Run LMS for 20 epochs with learning rate $r=0.01$, report the weight you get in the end and plot the MSE loss in log scale vs. Epochs."
      ],
      "metadata": {
        "id": "kwZbkMdcGhJm"
      }
    },
    {
      "cell_type": "code",
      "source": [
        "def descend(r, num_epochs, X = X, D = D):\n",
        "  w_0 = np.array([0,0,0]).astype('float').T\n",
        "  w_k = w_0.copy()\n",
        "  mse_losses = []\n",
        "  for i in range(num_epochs):\n",
        "    for j in range(len(D)):\n",
        "      X_k = X[j]\n",
        "      d_k = D[j]\n",
        "      s_k = w_k.T @ X_k\n",
        "      w_k += r * X_k.T * (d_k - s_k)\n",
        "    s_k = np.array([(w_k.T @ X_k).item() for X_k in X])\n",
        "    mse_k = np.sum((D - s_k) ** 2) / (2 * len(D))\n",
        "    mse_losses.append(mse_k)\n",
        "    print(f\"Epoch {i+1}: MSE = {mse_k} for Weights: {w_k}\")\n",
        "    print()\n",
        "  return w_k, mse_losses"
      ],
      "metadata": {
        "id": "Ne0AhB3bGuxu"
      },
      "execution_count": 191,
      "outputs": []
    },
    {
      "cell_type": "code",
      "source": [
        "w_k, mse_losses = descend(r = 0.01, num_epochs = 20)"
      ],
      "metadata": {
        "colab": {
          "base_uri": "https://localhost:8080/"
        },
        "id": "ZIZ95ExMP3OG",
        "outputId": "38694209-a78e-425f-ea71-3098d6b5adbe"
      },
      "execution_count": 192,
      "outputs": [
        {
          "output_type": "stream",
          "name": "stdout",
          "text": [
            "Epoch 1: MSE = 0.41597664653012956 for Weights: [ 0.64100742  0.60691145 -1.22256919]\n",
            "\n",
            "Epoch 2: MSE = 0.06167050055591204 for Weights: [ 0.87171709  0.84503269 -1.69846199]\n",
            "\n",
            "Epoch 3: MSE = 0.00918352302117239 for Weights: [ 0.95461479  0.93896791 -1.88341134]\n",
            "\n",
            "Epoch 4: MSE = 0.0013998347202824953 for Weights: [ 0.98432452  0.97618831 -1.9552063 ]\n",
            "\n",
            "Epoch 5: MSE = 0.00024727995925744576 for Weights: [ 0.99493404  0.99098913 -1.98305376]\n",
            "\n",
            "Epoch 6: MSE = 7.804454112754207e-05 for Weights: [ 0.9987048   0.9968916  -1.99384948]\n",
            "\n",
            "Epoch 7: MSE = 5.386768621940005e-05 for Weights: [ 1.00003676  0.99925083 -1.99803351]\n",
            "\n",
            "Epoch 8: MSE = 5.069780261823408e-05 for Weights: [ 1.00050357  1.00019552 -1.99965493]\n",
            "\n",
            "Epoch 9: MSE = 5.040083419088486e-05 for Weights: [ 1.00066553  1.00057433 -2.00028332]\n",
            "\n",
            "Epoch 10: MSE = 5.042636577765125e-05 for Weights: [ 1.000721   1.0007264 -2.0005269]\n",
            "\n",
            "Epoch 11: MSE = 5.045765692029332e-05 for Weights: [ 1.00073967  1.0007875  -2.00062135]\n",
            "\n",
            "Epoch 12: MSE = 5.0473093809883536e-05 for Weights: [ 1.00074581  1.00081206 -2.00065799]\n",
            "\n",
            "Epoch 13: MSE = 5.047960899587332e-05 for Weights: [ 1.00074776  1.00082194 -2.00067221]\n",
            "\n",
            "Epoch 14: MSE = 5.0482227903561266e-05 for Weights: [ 1.00074835  1.00082592 -2.00067773]\n",
            "\n",
            "Epoch 15: MSE = 5.048326269858834e-05 for Weights: [ 1.00074851  1.00082752 -2.00067987]\n",
            "\n",
            "Epoch 16: MSE = 5.048366911150139e-05 for Weights: [ 1.00074855  1.00082816 -2.00068071]\n",
            "\n",
            "Epoch 17: MSE = 5.048382843585573e-05 for Weights: [ 1.00074856  1.00082842 -2.00068103]\n",
            "\n",
            "Epoch 18: MSE = 5.048389088166683e-05 for Weights: [ 1.00074855  1.00082853 -2.00068116]\n",
            "\n",
            "Epoch 19: MSE = 5.0483915367036426e-05 for Weights: [ 1.00074855  1.00082857 -2.00068121]\n",
            "\n",
            "Epoch 20: MSE = 5.048392497431242e-05 for Weights: [ 1.00074855  1.00082859 -2.00068123]\n",
            "\n"
          ]
        }
      ]
    },
    {
      "cell_type": "code",
      "source": [
        "print(f'Final weights: {w_k}')"
      ],
      "metadata": {
        "colab": {
          "base_uri": "https://localhost:8080/"
        },
        "id": "cdMOWQ05J_72",
        "outputId": "f6cb3573-5bc6-424f-b0d6-4288a40344fd"
      },
      "execution_count": 193,
      "outputs": [
        {
          "output_type": "stream",
          "name": "stdout",
          "text": [
            "Final weights: [ 1.00074855  1.00082859 -2.00068123]\n"
          ]
        }
      ]
    },
    {
      "cell_type": "markdown",
      "source": [
        "The final weight $W$ calculated after running the LMS algorithm for 20 epochs is \n",
        "$$\n",
        "\\begin{bmatrix}\n",
        "1.0006781 \\\\\n",
        "1.00061145 \\\\\n",
        "-2.00031968 \\\\\n",
        "\\end{bmatrix}\n",
        "$$"
      ],
      "metadata": {
        "id": "FXFIKfWhjbqh"
      }
    },
    {
      "cell_type": "code",
      "source": [
        "x_range = np.arange(1,21)\n",
        "plt.gca().set_yscale('log')\n",
        "plt.xlabel('Epoch')\n",
        "plt.ylabel('Mean Squared Error (Log Scale)')\n",
        "plt.scatter(x_range, mse_losses)\n",
        "plt.title('MSE (in Log Scale) Over 20 Epochs of LMS algorithm with r = 0.01');\n",
        "plt.xticks(np.arange(0,5) * 5);\n",
        "plt.savefig('LogMSE01.png', dpi=300)"
      ],
      "metadata": {
        "colab": {
          "base_uri": "https://localhost:8080/",
          "height": 295
        },
        "id": "yVLUePWOIleo",
        "outputId": "f941a02b-b266-4eea-8742-d3a19fbd09e4"
      },
      "execution_count": 194,
      "outputs": [
        {
          "output_type": "display_data",
          "data": {
            "text/plain": [
              "<Figure size 432x288 with 1 Axes>"
            ],
            "image/png": "[encoded data removed]"
          },
          "metadata": {
            "needs_background": "light"
          }
        }
      ]
    },
    {
      "cell_type": "markdown",
      "source": [
        "#### (c) (3pt) Scatter plot the points $(x_{1k}, x_{2k}, d_k)$ for all 100 data-target pairs in a 3D figure, and plot the lines corresponding to the linear models you got in (a) and (b) respectively in the same figure. Observe if the linear models fit the data well."
      ],
      "metadata": {
        "id": "CTT1yU8XPkfg"
      }
    },
    {
      "cell_type": "code",
      "source": [
        "def regression_line(x, y):\n",
        "\n",
        "  intercept = np.ones((100,100))\n",
        "  return w_k[0] * intercept + w_k[1] * x + w_k[2] * y\n",
        "\n",
        "x_1_range = np.linspace(min(X[:, 1]), max(X[:, 1]), 100)\n",
        "x_2_range = np.linspace(min(X[:, 2]), max(X[:, 2]), 100)\n",
        "\n",
        "X_1_grid, X_2_grid = np.meshgrid(x_1_range, x_2_range)\n",
        "Z = regression_line(X_1_grid, X_2_grid)"
      ],
      "metadata": {
        "id": "wlgE1GzIT8wu"
      },
      "execution_count": 195,
      "outputs": []
    },
    {
      "cell_type": "code",
      "source": [
        "x_1 = X[:, 1]\n",
        "x_2 = X[:, 2]"
      ],
      "metadata": {
        "id": "wFsgyBHoU_sU"
      },
      "execution_count": 196,
      "outputs": []
    },
    {
      "cell_type": "code",
      "source": [
        "z_1 = np.array(W_star @ [1,np.ravel(X_1_grid),np.ravel(X_2_grid)]).reshape((len(D), len(D)));\n",
        "z_2 = np.array(w_k @ [1,np.ravel(X_1_grid),np.ravel(X_2_grid)]).reshape((len(D), len(D)));"
      ],
      "metadata": {
        "colab": {
          "base_uri": "https://localhost:8080/"
        },
        "id": "skr4n7Dl0AQo",
        "outputId": "fe4b72e6-1e06-4807-a492-389ab471f178"
      },
      "execution_count": 197,
      "outputs": [
        {
          "output_type": "stream",
          "name": "stderr",
          "text": [
            "/usr/local/lib/python3.7/dist-packages/ipykernel_launcher.py:1: VisibleDeprecationWarning: Creating an ndarray from ragged nested sequences (which is a list-or-tuple of lists-or-tuples-or ndarrays with different lengths or shapes) is deprecated. If you meant to do this, you must specify 'dtype=object' when creating the ndarray.\n",
            "  \"\"\"Entry point for launching an IPython kernel.\n",
            "/usr/local/lib/python3.7/dist-packages/ipykernel_launcher.py:2: VisibleDeprecationWarning: Creating an ndarray from ragged nested sequences (which is a list-or-tuple of lists-or-tuples-or ndarrays with different lengths or shapes) is deprecated. If you meant to do this, you must specify 'dtype=object' when creating the ndarray.\n",
            "  \n"
          ]
        }
      ]
    },
    {
      "cell_type": "code",
      "source": [
        "#https://jakevdp.github.io/PythonDataScienceHandbook/04.12-three-dimensional-plotting.html\n",
        "fig = plt.figure(figsize=(8,6))\n",
        "ax = plt.axes(projection='3d')\n",
        "ax.scatter3D(x_1, x_2, D, c=D);\n",
        "\n",
        "surface1 = ax.plot_surface(X_1_grid, X_2_grid, z_1, color = 'purple')\n",
        "surface2 = ax.plot_surface(X_1_grid, X_2_grid, z_2, color = 'red')\n",
        "\n",
        "ax.view_init(0, 32)\n",
        "#ax.legend(['Line for Optimal Weight', 'Line for LMS Weight'])\n",
        "\n",
        "plt.xlabel('$x_1$')\n",
        "plt.ylabel('$x_2$')\n",
        "ax.set_zlabel('D');\n",
        "plt.title('3D Plot of Optimal and LMS Plane Fits on $x_1, x_2$ for predicting D');\n",
        "\n",
        "plt.savefig('3DPlot.png', dpi=300)"
      ],
      "metadata": {
        "colab": {
          "base_uri": "https://localhost:8080/",
          "height": 357
        },
        "id": "-gE5u4sLKIkw",
        "outputId": "1d85fa0b-2543-4903-c3c9-62c8b3475a7f"
      },
      "execution_count": 198,
      "outputs": [
        {
          "output_type": "display_data",
          "data": {
            "text/plain": [
              "<Figure size 576x432 with 1 Axes>"
            ],
            "image/png": "[encoded data removed]"
          },
          "metadata": {
            "needs_background": "light"
          }
        }
      ]
    },
    {
      "cell_type": "markdown",
      "source": [
        "In general, it seems as though the line from the linear models in (a) and (b) fit the data well, as evidenced by the fact that the points hover on the line. There is almost no error at all among the points with the lines."
      ],
      "metadata": {
        "id": "ELJWvff1mNXE"
      }
    },
    {
      "cell_type": "markdown",
      "source": [
        "#### (d) (5pt) Learning rate $r$ is an important hyperparameter for the LMS algorithm, as well as for CNN optimization. Here, try repeat the process in (b) with $r$ set to 0.005, 0.05 and 0.5 respectively. Together with the result you got in (b), plot the MSE losses of the 4 sets of experiments in log scale vs. Epochs in one figure. Then try further enlarge the learning rate to $r=1$ and observe how the MSE changes. Base on these observations, comment on how learning rate affects the speed and quality of the learning process. (Note: The learning rate tuning for the CNN optimization will be introduced in Lecture 7.)"
      ],
      "metadata": {
        "id": "vTSlZ_tkkI7I"
      }
    },
    {
      "cell_type": "code",
      "source": [
        "r_values = [0.005, 0.05, 0.5]"
      ],
      "metadata": {
        "id": "ijlnZFljKteX"
      },
      "execution_count": 199,
      "outputs": []
    },
    {
      "cell_type": "markdown",
      "source": [
        "r = 0.005:"
      ],
      "metadata": {
        "id": "1T8W6zEAknf9"
      }
    },
    {
      "cell_type": "code",
      "source": [
        "w_r0, mse_losses_r0 = descend(r = r_values[0], num_epochs = 20)"
      ],
      "metadata": {
        "colab": {
          "base_uri": "https://localhost:8080/"
        },
        "id": "I2E9ZumgQGsX",
        "outputId": "42a8acaf-fe50-4021-e263-75726a57e7e0"
      },
      "execution_count": 200,
      "outputs": [
        {
          "output_type": "stream",
          "name": "stdout",
          "text": [
            "Epoch 1: MSE = 1.0914574469314475 for Weights: [ 0.39572422  0.36769911 -0.7493035 ]\n",
            "\n",
            "Epoch 2: MSE = 0.4238335193030295 for Weights: [ 0.63515787  0.59991244 -1.2180853 ]\n",
            "\n",
            "Epoch 3: MSE = 0.16470148146968697 for Weights: [ 0.77997143  0.74672493 -1.5112979 ]\n",
            "\n",
            "Epoch 4: MSE = 0.06405756383186496 for Weights: [ 0.86751533  0.83963729 -1.6946606 ]\n",
            "\n",
            "Epoch 5: MSE = 0.02494469825582346 for Weights: [ 0.92040793  0.8984913  -1.80930997]\n",
            "\n",
            "Epoch 6: MSE = 0.009735815915366722 for Weights: [ 0.95234347  0.93580182 -1.88098685]\n",
            "\n",
            "Epoch 7: MSE = 0.0038190313393249814 for Weights: [ 0.97161069  0.95947212 -1.9257939 ]\n",
            "\n",
            "Epoch 8: MSE = 0.0015163915270170359 for Weights: [ 0.9832247   0.97449872 -1.95380211]\n",
            "\n",
            "Epoch 9: MSE = 0.0006201613640342687 for Weights: [ 0.99021849  0.98404364 -1.97130891]\n",
            "\n",
            "Epoch 10: MSE = 0.00027141973877162543 for Weights: [ 0.99442533  0.99010978 -1.98225151]\n",
            "\n",
            "Epoch 11: MSE = 0.0001358346612416043 for Weights: [ 0.99695261  0.99396685 -1.98909119]\n",
            "\n",
            "Epoch 12: MSE = 8.322002437387238e-05 for Weights: [ 0.99846873  0.99642034 -1.99336644]\n",
            "\n",
            "Epoch 13: MSE = 6.287454593112945e-05 for Weights: [ 0.99937683  0.9979816  -1.99603885]\n",
            "\n",
            "Epoch 14: MSE = 5.5056523168594935e-05 for Weights: [ 0.99991979  0.99897542 -1.99770944]\n",
            "\n",
            "Epoch 15: MSE = 5.208517779550524e-05 for Weights: [ 1.00024378  0.99960823 -1.99875385]\n",
            "\n",
            "Epoch 16: MSE = 5.0977457628350745e-05 for Weights: [ 1.00043669  1.00001128 -1.99940683]\n",
            "\n",
            "Epoch 17: MSE = 5.057868413940609e-05 for Weights: [ 1.00055126  1.00026805 -1.99981513]\n",
            "\n",
            "Epoch 18: MSE = 5.044457531152369e-05 for Weights: [ 1.00061911  1.00043166 -2.00007046]\n",
            "\n",
            "Epoch 19: MSE = 5.040596724321844e-05 for Weights: [ 1.00065917  1.00053593 -2.00023014]\n",
            "\n",
            "Epoch 20: MSE = 5.039962087388763e-05 for Weights: [ 1.00068274  1.0006024  -2.00033003]\n",
            "\n"
          ]
        }
      ]
    },
    {
      "cell_type": "markdown",
      "source": [
        "r = 0.05:"
      ],
      "metadata": {
        "id": "uBPGmgrLkq32"
      }
    },
    {
      "cell_type": "code",
      "source": [
        "w_r1, mse_losses_r1 = descend(r = r_values[1], num_epochs = 20)"
      ],
      "metadata": {
        "colab": {
          "base_uri": "https://localhost:8080/"
        },
        "id": "tDmlqXtkQIgJ",
        "outputId": "aa2758b8-a17e-40fc-d460-a816943f30c2"
      },
      "execution_count": 201,
      "outputs": [
        {
          "output_type": "stream",
          "name": "stdout",
          "text": [
            "Epoch 1: MSE = 0.0001343152153154324 for Weights: [ 0.99714846  0.9979902  -1.98778352]\n",
            "\n",
            "Epoch 2: MSE = 5.155166066921642e-05 for Weights: [ 1.00051928  1.00161346 -2.00154921]\n",
            "\n",
            "Epoch 3: MSE = 5.165987134933783e-05 for Weights: [ 1.00053083  1.00163145 -2.0016281 ]\n",
            "\n",
            "Epoch 4: MSE = 5.166048729053072e-05 for Weights: [ 1.00053087  1.00163155 -2.00162853]\n",
            "\n",
            "Epoch 5: MSE = 5.1660490675274334e-05 for Weights: [ 1.00053087  1.00163155 -2.00162854]\n",
            "\n",
            "Epoch 6: MSE = 5.1660490693847266e-05 for Weights: [ 1.00053087  1.00163155 -2.00162854]\n",
            "\n",
            "Epoch 7: MSE = 5.1660490693949086e-05 for Weights: [ 1.00053087  1.00163155 -2.00162854]\n",
            "\n",
            "Epoch 8: MSE = 5.166049069395016e-05 for Weights: [ 1.00053087  1.00163155 -2.00162854]\n",
            "\n",
            "Epoch 9: MSE = 5.166049069395016e-05 for Weights: [ 1.00053087  1.00163155 -2.00162854]\n",
            "\n",
            "Epoch 10: MSE = 5.166049069395016e-05 for Weights: [ 1.00053087  1.00163155 -2.00162854]\n",
            "\n",
            "Epoch 11: MSE = 5.166049069395016e-05 for Weights: [ 1.00053087  1.00163155 -2.00162854]\n",
            "\n",
            "Epoch 12: MSE = 5.166049069395016e-05 for Weights: [ 1.00053087  1.00163155 -2.00162854]\n",
            "\n",
            "Epoch 13: MSE = 5.166049069395016e-05 for Weights: [ 1.00053087  1.00163155 -2.00162854]\n",
            "\n",
            "Epoch 14: MSE = 5.166049069395016e-05 for Weights: [ 1.00053087  1.00163155 -2.00162854]\n",
            "\n",
            "Epoch 15: MSE = 5.166049069395016e-05 for Weights: [ 1.00053087  1.00163155 -2.00162854]\n",
            "\n",
            "Epoch 16: MSE = 5.166049069395016e-05 for Weights: [ 1.00053087  1.00163155 -2.00162854]\n",
            "\n",
            "Epoch 17: MSE = 5.166049069395016e-05 for Weights: [ 1.00053087  1.00163155 -2.00162854]\n",
            "\n",
            "Epoch 18: MSE = 5.166049069395016e-05 for Weights: [ 1.00053087  1.00163155 -2.00162854]\n",
            "\n",
            "Epoch 19: MSE = 5.166049069395016e-05 for Weights: [ 1.00053087  1.00163155 -2.00162854]\n",
            "\n",
            "Epoch 20: MSE = 5.166049069395016e-05 for Weights: [ 1.00053087  1.00163155 -2.00162854]\n",
            "\n"
          ]
        }
      ]
    },
    {
      "cell_type": "markdown",
      "source": [
        "r = 0.5:"
      ],
      "metadata": {
        "id": "ayXQQVa-ksDR"
      }
    },
    {
      "cell_type": "code",
      "source": [
        "w_r2, mse_losses_r2 = descend(r = r_values[2], num_epochs = 20)"
      ],
      "metadata": {
        "colab": {
          "base_uri": "https://localhost:8080/"
        },
        "id": "uinwq3QKQKgq",
        "outputId": "5c6f19fe-ad09-4e76-da59-36593af4e628"
      },
      "execution_count": 202,
      "outputs": [
        {
          "output_type": "stream",
          "name": "stdout",
          "text": [
            "Epoch 1: MSE = 0.000929674006935538 for Weights: [ 0.97960556  0.98489055 -1.96602558]\n",
            "\n",
            "Epoch 2: MSE = 0.0009022746388247147 for Weights: [ 0.97969493  0.98520792 -1.96669088]\n",
            "\n",
            "Epoch 3: MSE = 0.0009022656803871786 for Weights: [ 0.97969496  0.98520802 -1.9666911 ]\n",
            "\n",
            "Epoch 4: MSE = 0.0009022656774304524 for Weights: [ 0.97969496  0.98520802 -1.9666911 ]\n",
            "\n",
            "Epoch 5: MSE = 0.0009022656774294065 for Weights: [ 0.97969496  0.98520802 -1.9666911 ]\n",
            "\n",
            "Epoch 6: MSE = 0.0009022656774294231 for Weights: [ 0.97969496  0.98520802 -1.9666911 ]\n",
            "\n",
            "Epoch 7: MSE = 0.0009022656774294733 for Weights: [ 0.97969496  0.98520802 -1.9666911 ]\n",
            "\n",
            "Epoch 8: MSE = 0.0009022656774294231 for Weights: [ 0.97969496  0.98520802 -1.9666911 ]\n",
            "\n",
            "Epoch 9: MSE = 0.0009022656774294733 for Weights: [ 0.97969496  0.98520802 -1.9666911 ]\n",
            "\n",
            "Epoch 10: MSE = 0.0009022656774294231 for Weights: [ 0.97969496  0.98520802 -1.9666911 ]\n",
            "\n",
            "Epoch 11: MSE = 0.0009022656774294733 for Weights: [ 0.97969496  0.98520802 -1.9666911 ]\n",
            "\n",
            "Epoch 12: MSE = 0.0009022656774294231 for Weights: [ 0.97969496  0.98520802 -1.9666911 ]\n",
            "\n",
            "Epoch 13: MSE = 0.0009022656774294733 for Weights: [ 0.97969496  0.98520802 -1.9666911 ]\n",
            "\n",
            "Epoch 14: MSE = 0.0009022656774294231 for Weights: [ 0.97969496  0.98520802 -1.9666911 ]\n",
            "\n",
            "Epoch 15: MSE = 0.0009022656774294733 for Weights: [ 0.97969496  0.98520802 -1.9666911 ]\n",
            "\n",
            "Epoch 16: MSE = 0.0009022656774294231 for Weights: [ 0.97969496  0.98520802 -1.9666911 ]\n",
            "\n",
            "Epoch 17: MSE = 0.0009022656774294733 for Weights: [ 0.97969496  0.98520802 -1.9666911 ]\n",
            "\n",
            "Epoch 18: MSE = 0.0009022656774294231 for Weights: [ 0.97969496  0.98520802 -1.9666911 ]\n",
            "\n",
            "Epoch 19: MSE = 0.0009022656774294733 for Weights: [ 0.97969496  0.98520802 -1.9666911 ]\n",
            "\n",
            "Epoch 20: MSE = 0.0009022656774294231 for Weights: [ 0.97969496  0.98520802 -1.9666911 ]\n",
            "\n"
          ]
        }
      ]
    },
    {
      "cell_type": "markdown",
      "source": [
        "Plot of MSE losses of 4 experiments in log scale vs Epochs:"
      ],
      "metadata": {
        "id": "3ofu3-sykvCT"
      }
    },
    {
      "cell_type": "code",
      "source": [
        "plt.scatter(x_range, mse_losses)\n",
        "plt.scatter(x_range, mse_losses_r0)\n",
        "plt.scatter(x_range, mse_losses_r1)\n",
        "plt.scatter(x_range, mse_losses_r2)\n",
        "plt.gca().set_yscale('log')\n",
        "plt.legend(['r=0.01', 'r=0.005', 'r=0.05', 'r=0.5'])\n",
        "plt.xlabel('Epoch')\n",
        "plt.ylabel('Mean Squared Error (Log Scale)')\n",
        "plt.xticks(np.arange(0,5) * 5);\n",
        "plt.title('Log Scale MSE Over 20 Epochs of LMS algorithm with different r values');\n",
        "plt.savefig('LogMSErvalues.png', dpi=300)"
      ],
      "metadata": {
        "colab": {
          "base_uri": "https://localhost:8080/",
          "height": 295
        },
        "id": "dMgv23sKQL6p",
        "outputId": "28ea6f84-15a5-4de2-f0e9-a351beadb439"
      },
      "execution_count": 203,
      "outputs": [
        {
          "output_type": "display_data",
          "data": {
            "text/plain": [
              "<Figure size 432x288 with 1 Axes>"
            ],
            "image/png": "[encoded data removed]"
          },
          "metadata": {
            "needs_background": "light"
          }
        }
      ]
    },
    {
      "cell_type": "markdown",
      "source": [
        "r = 1"
      ],
      "metadata": {
        "id": "DZldxzrWkz0y"
      }
    },
    {
      "cell_type": "code",
      "source": [
        "w_r3, mse_losses_r3 = descend(r = 1, num_epochs = 20)"
      ],
      "metadata": {
        "colab": {
          "base_uri": "https://localhost:8080/"
        },
        "id": "3AO861I0QjT6",
        "outputId": "3422c55b-4cea-4c26-ba1b-7251c339839c"
      },
      "execution_count": 204,
      "outputs": [
        {
          "output_type": "stream",
          "name": "stdout",
          "text": [
            "Epoch 1: MSE = 6.221473538428372e+18 for Weights: [ 2.44853746e+09 -7.82004386e+08 -2.54835788e+09]\n",
            "\n",
            "Epoch 2: MSE = 4.037539197035097e+37 for Weights: [ 6.23762276e+18 -1.99213110e+18 -6.49190139e+18]\n",
            "\n",
            "Epoch 3: MSE = 2.6202336516852733e+56 for Weights: [ 1.58902504e+28 -5.07492407e+27 -1.65380214e+28]\n",
            "\n",
            "Epoch 4: MSE = 1.7004477366967381e+75 for Weights: [ 4.04801743e+37 -1.29282929e+37 -4.21303612e+37]\n",
            "\n",
            "Epoch 5: MSE = 1.103536130595577e+94 for Weights: [ 1.03122637e+47 -3.29346322e+46 -1.07326463e+47]\n",
            "\n",
            "Epoch 6: MSE = 7.1615961211223955e+112 for Weights: [ 2.62703369e+56 -8.39004812e+55 -2.73412554e+56]\n",
            "\n",
            "Epoch 7: MSE = 4.647646559102238e+131 for Weights: [ 6.69232890e+65 -2.13735217e+65 -6.96514377e+65]\n",
            "\n",
            "Epoch 8: MSE = 3.016173793245054e+150 for Weights: [ 1.70486074e+75 -5.44487257e+74 -1.77435992e+75]\n",
            "\n",
            "Epoch 9: MSE = 1.957400210057157e+169 for Weights: [ 4.34310716e+84 -1.38707312e+84 -4.52015528e+84]\n",
            "\n",
            "Epoch 10: MSE = 1.2702900578582652e+188 for Weights: [ 1.10640003e+94 -3.53354795e+93 -1.15150277e+94]\n",
            "\n",
            "Epoch 11: MSE = 8.243775712307943e+206 for Weights: [ 2.81853747e+103 -9.00166036e+102 -2.93343603e+103]\n",
            "\n",
            "Epoch 12: MSE = 5.3499464610011627e+225 for Weights: [ 7.18018192e+112 -2.29315947e+112 -7.47288427e+112]\n",
            "\n",
            "Epoch 13: MSE = 3.4719439410325566e+244 for Weights: [ 1.82914057e+122 -5.84178933e+121 -1.90370605e+122]\n",
            "\n",
            "Epoch 14: MSE = 2.2531804416257442e+263 for Weights: [ 4.65970815e+131 -1.48818706e+131 -4.84966260e+131]\n",
            "\n",
            "Epoch 15: MSE = 1.4622419568833683e+282 for Weights: [ 1.18705366e+141 -3.79113421e+140 -1.23544427e+141]\n",
            "\n",
            "Epoch 16: MSE = 9.489482071517212e+300 for Weights: [ 3.02400138e+150 -9.65785751e+149 -3.14727574e+150]\n",
            "\n",
            "Epoch 17: MSE = inf for Weights: [ 7.70359813e+159 -2.46032471e+159 -8.01763770e+159]\n",
            "\n",
            "Epoch 18: MSE = inf for Weights: [ 1.96248006e+169 -6.26764027e+168 -2.04248117e+169]\n",
            "\n",
            "Epoch 19: MSE = inf for Weights: [ 4.99938850e+178 -1.59667195e+178 -5.20319013e+178]\n",
            "\n",
            "Epoch 20: MSE = inf for Weights: [ 1.27358672e+188 -4.06749784e+187 -1.32550488e+188]\n",
            "\n"
          ]
        },
        {
          "output_type": "stream",
          "name": "stderr",
          "text": [
            "/usr/local/lib/python3.7/dist-packages/ipykernel_launcher.py:12: RuntimeWarning: overflow encountered in square\n",
            "  if sys.path[0] == '':\n"
          ]
        }
      ]
    },
    {
      "cell_type": "markdown",
      "source": [
        "Based on these runs, the learning rate seems to clearly have great affect on both speed and quality of the learning process. In general, learning rates should likely be somewhat small (at least when further along within epochs), as that helps improve the speed and quality of the learning process. This is because in the cases of the 0.01 and 0.005 and 0.05 learning rates, they were both able to reduce the loss to 10^-4 within 20 epochs, as their small learning rates allowed them not to overstep the local minimum. This seems to be the case for the 0.5 learning rate, which clearly overstep the minima detected by the gradient and thus fails to decrease the error while stepping, and thus would take much longer to converge. However, in looking at the learning rates that converged, it seems as though the larger learning rate decreased faster. This is because it is able to make larger steps in the right direction early on, especially as the initial weights are not informed by any priors and thus there are large steps to make (whereas around the minima, smaller steps need to be made). This motivates the idea of a learning rate that decreases in size after a certain amount of epochs or that adapts based on the the epoch number or local gradient. The larger initial steps of the learning rate for 0.05 were helpful in decreasing the loss fast, but the 0.005 ends with a lower MSE as it is better able to make tiny steps as it nears the local minima. "
      ],
      "metadata": {
        "id": "FjTyDERQkkuK"
      }
    },
    {
      "cell_type": "code",
      "source": [],
      "metadata": {
        "id": "gBFAN78rlRby"
      },
      "execution_count": 204,
      "outputs": []
    }
  ]
}